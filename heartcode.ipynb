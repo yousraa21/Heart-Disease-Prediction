{
 "cells": [
  {
   "cell_type": "code",
   "execution_count": 5,
   "metadata": {},
   "outputs": [],
   "source": [
    "## For some arithmetic and Matrix Operations\n",
    "import numpy as np\n",
    "\n",
    "## Dataframe Manipulation\n",
    "import pandas as pd\n",
    "\n",
    "## For Visualization\n",
    "import matplotlib.pyplot as plt\n",
    "\n",
    "## For Visualization too\n",
    "#import seaborn as sns\n",
    "\n",
    "## Creating Pipeline\n",
    "from sklearn.pipeline import Pipeline\n",
    "from sklearn.pipeline import make_pipeline\n",
    "\n",
    "\n",
    "## Creating a function transformer\n",
    "from sklearn.preprocessing import FunctionTransformer\n",
    "\n",
    "## For Column Transformer\n",
    "from sklearn.compose import ColumnTransformer\n",
    "from sklearn.compose import make_column_selector\n",
    "\n",
    "\n",
    "## For preprocessing\n",
    "from sklearn.preprocessing import OneHotEncoder\n",
    "from sklearn.preprocessing import StandardScaler\n",
    "from sklearn.preprocessing import OrdinalEncoder\n",
    "\n",
    "## For missing values\n",
    "from sklearn.impute import SimpleImputer\n",
    "\n",
    "## Getting the recall score on our train set\n",
    "from sklearn.metrics import recall_score\n",
    "\n",
    "## Getting the accuracy score on train set\n",
    "from sklearn.metrics import accuracy_score\n",
    "\n",
    "## Getting the classification report from our train set\n",
    "from sklearn.metrics import classification_report\n",
    "\n",
    "## Cross validation\n",
    "from sklearn.model_selection import cross_val_score\n",
    "\n",
    "## Gridsearch CV\n",
    "from sklearn.model_selection import GridSearchCV\n",
    "from sklearn.model_selection import RandomizedSearchCV\n",
    "\n",
    "\n",
    "\n",
    "\n",
    "## Models\n",
    "from sklearn.linear_model import LogisticRegression\n",
    "from sklearn.svm import SVC\n",
    "from sklearn.tree import DecisionTreeClassifier\n",
    "from sklearn.ensemble import RandomForestClassifier\n",
    "from sklearn.neighbors import KNeighborsClassifier\n",
    "from sklearn.naive_bayes import GaussianNB\n"
   ]
  },
  {
   "cell_type": "markdown",
   "metadata": {},
   "source": [
    "## preprocessing"
   ]
  },
  {
   "cell_type": "code",
   "execution_count": 6,
   "metadata": {},
   "outputs": [
    {
     "name": "stdout",
     "output_type": "stream",
     "text": [
      "(308854, 19)\n"
     ]
    },
    {
     "data": {
      "text/html": [
       "<div>\n",
       "<style scoped>\n",
       "    .dataframe tbody tr th:only-of-type {\n",
       "        vertical-align: middle;\n",
       "    }\n",
       "\n",
       "    .dataframe tbody tr th {\n",
       "        vertical-align: top;\n",
       "    }\n",
       "\n",
       "    .dataframe thead th {\n",
       "        text-align: right;\n",
       "    }\n",
       "</style>\n",
       "<table border=\"1\" class=\"dataframe\">\n",
       "  <thead>\n",
       "    <tr style=\"text-align: right;\">\n",
       "      <th></th>\n",
       "      <th>General_Health</th>\n",
       "      <th>Checkup</th>\n",
       "      <th>Exercise</th>\n",
       "      <th>Heart_Disease</th>\n",
       "      <th>Skin_Cancer</th>\n",
       "      <th>Other_Cancer</th>\n",
       "      <th>Depression</th>\n",
       "      <th>Diabetes</th>\n",
       "      <th>Arthritis</th>\n",
       "      <th>Sex</th>\n",
       "      <th>Age_Category</th>\n",
       "      <th>Height_(cm)</th>\n",
       "      <th>Weight_(kg)</th>\n",
       "      <th>BMI</th>\n",
       "      <th>Smoking_History</th>\n",
       "      <th>Alcohol_Consumption</th>\n",
       "      <th>Fruit_Consumption</th>\n",
       "      <th>Green_Vegetables_Consumption</th>\n",
       "      <th>FriedPotato_Consumption</th>\n",
       "    </tr>\n",
       "  </thead>\n",
       "  <tbody>\n",
       "    <tr>\n",
       "      <th>0</th>\n",
       "      <td>Poor</td>\n",
       "      <td>Within the past 2 years</td>\n",
       "      <td>No</td>\n",
       "      <td>No</td>\n",
       "      <td>No</td>\n",
       "      <td>No</td>\n",
       "      <td>No</td>\n",
       "      <td>No</td>\n",
       "      <td>Yes</td>\n",
       "      <td>Female</td>\n",
       "      <td>70-74</td>\n",
       "      <td>150.0</td>\n",
       "      <td>32.66</td>\n",
       "      <td>14.54</td>\n",
       "      <td>Yes</td>\n",
       "      <td>0.0</td>\n",
       "      <td>30.0</td>\n",
       "      <td>16.0</td>\n",
       "      <td>12.0</td>\n",
       "    </tr>\n",
       "    <tr>\n",
       "      <th>1</th>\n",
       "      <td>Very Good</td>\n",
       "      <td>Within the past year</td>\n",
       "      <td>No</td>\n",
       "      <td>Yes</td>\n",
       "      <td>No</td>\n",
       "      <td>No</td>\n",
       "      <td>No</td>\n",
       "      <td>Yes</td>\n",
       "      <td>No</td>\n",
       "      <td>Female</td>\n",
       "      <td>70-74</td>\n",
       "      <td>165.0</td>\n",
       "      <td>77.11</td>\n",
       "      <td>28.29</td>\n",
       "      <td>No</td>\n",
       "      <td>0.0</td>\n",
       "      <td>30.0</td>\n",
       "      <td>0.0</td>\n",
       "      <td>4.0</td>\n",
       "    </tr>\n",
       "    <tr>\n",
       "      <th>2</th>\n",
       "      <td>Very Good</td>\n",
       "      <td>Within the past year</td>\n",
       "      <td>Yes</td>\n",
       "      <td>No</td>\n",
       "      <td>No</td>\n",
       "      <td>No</td>\n",
       "      <td>No</td>\n",
       "      <td>Yes</td>\n",
       "      <td>No</td>\n",
       "      <td>Female</td>\n",
       "      <td>60-64</td>\n",
       "      <td>163.0</td>\n",
       "      <td>88.45</td>\n",
       "      <td>33.47</td>\n",
       "      <td>No</td>\n",
       "      <td>4.0</td>\n",
       "      <td>12.0</td>\n",
       "      <td>3.0</td>\n",
       "      <td>16.0</td>\n",
       "    </tr>\n",
       "    <tr>\n",
       "      <th>3</th>\n",
       "      <td>Poor</td>\n",
       "      <td>Within the past year</td>\n",
       "      <td>Yes</td>\n",
       "      <td>Yes</td>\n",
       "      <td>No</td>\n",
       "      <td>No</td>\n",
       "      <td>No</td>\n",
       "      <td>Yes</td>\n",
       "      <td>No</td>\n",
       "      <td>Male</td>\n",
       "      <td>75-79</td>\n",
       "      <td>180.0</td>\n",
       "      <td>93.44</td>\n",
       "      <td>28.73</td>\n",
       "      <td>No</td>\n",
       "      <td>0.0</td>\n",
       "      <td>30.0</td>\n",
       "      <td>30.0</td>\n",
       "      <td>8.0</td>\n",
       "    </tr>\n",
       "    <tr>\n",
       "      <th>4</th>\n",
       "      <td>Good</td>\n",
       "      <td>Within the past year</td>\n",
       "      <td>No</td>\n",
       "      <td>No</td>\n",
       "      <td>No</td>\n",
       "      <td>No</td>\n",
       "      <td>No</td>\n",
       "      <td>No</td>\n",
       "      <td>No</td>\n",
       "      <td>Male</td>\n",
       "      <td>80+</td>\n",
       "      <td>191.0</td>\n",
       "      <td>88.45</td>\n",
       "      <td>24.37</td>\n",
       "      <td>Yes</td>\n",
       "      <td>0.0</td>\n",
       "      <td>8.0</td>\n",
       "      <td>4.0</td>\n",
       "      <td>0.0</td>\n",
       "    </tr>\n",
       "  </tbody>\n",
       "</table>\n",
       "</div>"
      ],
      "text/plain": [
       "  General_Health                  Checkup Exercise Heart_Disease Skin_Cancer  \\\n",
       "0           Poor  Within the past 2 years       No            No          No   \n",
       "1      Very Good     Within the past year       No           Yes          No   \n",
       "2      Very Good     Within the past year      Yes            No          No   \n",
       "3           Poor     Within the past year      Yes           Yes          No   \n",
       "4           Good     Within the past year       No            No          No   \n",
       "\n",
       "  Other_Cancer Depression Diabetes Arthritis     Sex Age_Category  \\\n",
       "0           No         No       No       Yes  Female        70-74   \n",
       "1           No         No      Yes        No  Female        70-74   \n",
       "2           No         No      Yes        No  Female        60-64   \n",
       "3           No         No      Yes        No    Male        75-79   \n",
       "4           No         No       No        No    Male          80+   \n",
       "\n",
       "   Height_(cm)  Weight_(kg)    BMI Smoking_History  Alcohol_Consumption  \\\n",
       "0        150.0        32.66  14.54             Yes                  0.0   \n",
       "1        165.0        77.11  28.29              No                  0.0   \n",
       "2        163.0        88.45  33.47              No                  4.0   \n",
       "3        180.0        93.44  28.73              No                  0.0   \n",
       "4        191.0        88.45  24.37             Yes                  0.0   \n",
       "\n",
       "   Fruit_Consumption  Green_Vegetables_Consumption  FriedPotato_Consumption  \n",
       "0               30.0                          16.0                     12.0  \n",
       "1               30.0                           0.0                      4.0  \n",
       "2               12.0                           3.0                     16.0  \n",
       "3               30.0                          30.0                      8.0  \n",
       "4                8.0                           4.0                      0.0  "
      ]
     },
     "execution_count": 6,
     "metadata": {},
     "output_type": "execute_result"
    }
   ],
   "source": [
    "df = pd.read_csv('CVD_cleaned.csv')\n",
    "def head(df,shape_only=False):\n",
    "    print(df.shape)\n",
    "\n",
    "    if shape_only:\n",
    "        return\n",
    "    else:\n",
    "        return df.head()\n",
    "## Viewing the dataframe and shape\n",
    "head(df,shape_only=False) "
   ]
  },
  {
   "cell_type": "code",
   "execution_count": 7,
   "metadata": {},
   "outputs": [
    {
     "name": "stdout",
     "output_type": "stream",
     "text": [
      "There are 12 Categorical variables:\n",
      "['Age_Category', 'Arthritis', 'Checkup', 'Depression', 'Diabetes', 'Exercise', 'General_Health', 'Heart_Disease', 'Other_Cancer', 'Sex', 'Skin_Cancer', 'Smoking_History']\n",
      "There are 7 Numerical variables:\n",
      "['Alcohol_Consumption', 'BMI', 'FriedPotato_Consumption', 'Fruit_Consumption', 'Green_Vegetables_Consumption', 'Height_(cm)', 'Weight_(kg)']\n"
     ]
    }
   ],
   "source": [
    "## Creating numerical and categorical columns\n",
    "numerical = df.select_dtypes(include=['float64']).columns.sort_values()\n",
    "categorical = df.select_dtypes(include=['object']).columns.sort_values()\n",
    "\n",
    "# Printing the length and names of categorical and numerical columns\n",
    "print(f'There are {len(categorical)} Categorical variables:')\n",
    "print(categorical.tolist())  # Print the names of categorical columns\n",
    "\n",
    "print(f'There are {len(numerical)} Numerical variables:')\n",
    "print(numerical.tolist())  # Print the names of numerical columns"
   ]
  },
  {
   "cell_type": "code",
   "execution_count": 8,
   "metadata": {},
   "outputs": [
    {
     "name": "stdout",
     "output_type": "stream",
     "text": [
      "['Within the past 2 years' 'Within the past year' '5 or more years ago'\n",
      " 'Within the past 5 years' 'Never']\n"
     ]
    }
   ],
   "source": [
    "# Check the unique values in the Checkup column\n",
    "print(df['Checkup'].unique())\n"
   ]
  },
  {
   "cell_type": "code",
   "execution_count": 9,
   "metadata": {},
   "outputs": [
    {
     "name": "stdout",
     "output_type": "stream",
     "text": [
      "   Checkup\n",
      "0        2\n",
      "1        1\n",
      "2        1\n",
      "3        1\n",
      "4        1\n"
     ]
    }
   ],
   "source": [
    "# Normalize the Checkup column to ensure it matches the mapping keys\n",
    "df['Checkup'] = df['Checkup'].str.strip().str.lower()\n",
    "\n",
    "# Update the mapping to match the normalized format\n",
    "checkup_mapping = {\n",
    "    \"within the past year\": 1,\n",
    "    \"within the past 2 years\": 2,\n",
    "    \"within the past 5 years\": 3,\n",
    "    \"5 or more years ago\": 4,\n",
    "    \"never\": 5\n",
    "}\n",
    "\n",
    "# Apply the mapping again\n",
    "df['Checkup'] = df['Checkup'].map(checkup_mapping)\n",
    "\n",
    "# Verify the changes\n",
    "print(df[['Checkup']].head())\n"
   ]
  },
  {
   "cell_type": "code",
   "execution_count": 10,
   "metadata": {},
   "outputs": [
    {
     "name": "stdout",
     "output_type": "stream",
     "text": [
      "[]\n"
     ]
    }
   ],
   "source": [
    "# Check if there are any unmapped values\n",
    "unmapped_values = df[df['Checkup'].isna()]['Checkup'].unique()\n",
    "print(unmapped_values)\n"
   ]
  },
  {
   "cell_type": "code",
   "execution_count": 11,
   "metadata": {},
   "outputs": [],
   "source": [
    "# Save the updated DataFrame to a new CSV file\n",
    "df.to_csv('CVD_cleaned_mapped.csv', index=False)\n"
   ]
  },
  {
   "cell_type": "code",
   "execution_count": 12,
   "metadata": {},
   "outputs": [],
   "source": [
    "yes_no_mapping = {\n",
    "    \"Yes\": 1,\n",
    "    \"No\": 0\n",
    "}\n"
   ]
  },
  {
   "cell_type": "code",
   "execution_count": 13,
   "metadata": {},
   "outputs": [],
   "source": [
    "sex_mapping = {\n",
    "    \"Male\": 1,\n",
    "    \"Female\": 0\n",
    "}\n"
   ]
  },
  {
   "cell_type": "code",
   "execution_count": 14,
   "metadata": {},
   "outputs": [
    {
     "name": "stdout",
     "output_type": "stream",
     "text": [
      "0    0.0\n",
      "1    1.0\n",
      "2    1.0\n",
      "3    1.0\n",
      "4    0.0\n",
      "Name: Diabetes, dtype: float64\n"
     ]
    }
   ],
   "source": [
    "# Create a mapping for the Diabetes column\n",
    "diabetes_mapping = {\n",
    "    \"No\": 0.0,\n",
    "    \"Yes\": 1.0,\n",
    "    \"No, pre-diabetes or borderline diabetes\": 0.5,\n",
    "    \"Yes, but female told only during pregnancy\": 0.7\n",
    "}\n",
    "\n",
    "# Apply the mapping\n",
    "df['Diabetes'] = df['Diabetes'].map(diabetes_mapping)\n",
    "\n",
    "# Verify the changes\n",
    "print(df['Diabetes'].head())\n"
   ]
  },
  {
   "cell_type": "code",
   "execution_count": 15,
   "metadata": {},
   "outputs": [
    {
     "name": "stdout",
     "output_type": "stream",
     "text": [
      "0    5\n",
      "1    1\n",
      "2    1\n",
      "3    5\n",
      "4    2\n",
      "Name: General_Health, dtype: int64\n"
     ]
    }
   ],
   "source": [
    "# Create a mapping for the Diabetes column\n",
    "general_mapping = {\n",
    "    \"Very Good\": 1,\n",
    "    \"Good\": 2,\n",
    "    \"Excellent\": 3,\n",
    "    \"Fair\": 4,\n",
    "    \"Poor\":5\n",
    "}\n",
    "\n",
    "# Apply the mapping\n",
    "df['General_Health'] = df['General_Health'].map(general_mapping)\n",
    "\n",
    "# Verify the changes\n",
    "print(df['General_Health'].head())\n"
   ]
  },
  {
   "cell_type": "code",
   "execution_count": 16,
   "metadata": {},
   "outputs": [
    {
     "name": "stdout",
     "output_type": "stream",
     "text": [
      "['70-74' '60-64' '75-79' '80+' '65-69' '50-54' '45-49' '18-24' '30-34'\n",
      " '55-59' '35-39' '40-44' '25-29']\n"
     ]
    }
   ],
   "source": [
    "# Check the unique values in the Checkup column\n",
    "print(df['Age_Category'].unique())\n"
   ]
  },
  {
   "cell_type": "code",
   "execution_count": 17,
   "metadata": {},
   "outputs": [
    {
     "name": "stdout",
     "output_type": "stream",
     "text": [
      "0    3\n",
      "1    3\n",
      "2    2\n",
      "3    6\n",
      "4    7\n",
      "Name: Age_Category, dtype: int64\n"
     ]
    }
   ],
   "source": [
    "# Create a mapping for the Diabetes column\n",
    "age_mapping = {\n",
    "    \"65-69\": 1,\n",
    "    \"60-64\": 2,\n",
    "    \"70-74\": 3,\n",
    "    \"55-59\": 4,\n",
    "    \"50-54\":5,\n",
    "    \"75-79\":6,\n",
    "    \"80+\":7,\n",
    "    \"45-49\":8,\n",
    "    \"18-24\":9,\n",
    "    \"30-34\":10,\n",
    "    \"35-39\":11,\n",
    "    \"40-44\":12,\n",
    "    \"25-29\":13\n",
    "\n",
    "}\n",
    "\n",
    "# Apply the mapping\n",
    "df['Age_Category'] = df['Age_Category'].map(age_mapping)\n",
    "\n",
    "# Verify the changes\n",
    "print(df['Age_Category'].head())\n"
   ]
  },
  {
   "cell_type": "code",
   "execution_count": 18,
   "metadata": {},
   "outputs": [
    {
     "name": "stdout",
     "output_type": "stream",
     "text": [
      "   Arthritis  Depression  Exercise  Heart_Disease  Other_Cancer  Skin_Cancer  \\\n",
      "0          1           0         0              0             0            0   \n",
      "1          0           0         0              1             0            0   \n",
      "2          0           0         1              0             0            0   \n",
      "3          0           0         1              1             0            0   \n",
      "4          0           0         0              0             0            0   \n",
      "\n",
      "   Smoking_History  Sex  \n",
      "0                1    0  \n",
      "1                0    0  \n",
      "2                0    0  \n",
      "3                0    1  \n",
      "4                1    1  \n"
     ]
    }
   ],
   "source": [
    "# Apply the Yes/No mapping to relevant columns\n",
    "yes_no_columns = ['Arthritis', 'Depression', 'Exercise', 'Heart_Disease', \n",
    "                  'Other_Cancer', 'Skin_Cancer', 'Smoking_History']\n",
    "\n",
    "for column in yes_no_columns:\n",
    "    df[column] = df[column].map(yes_no_mapping)\n",
    "\n",
    "# Apply the Male/Female mapping to the 'Sex' column\n",
    "df['Sex'] = df['Sex'].map(sex_mapping)\n",
    "\n",
    "# Verify the changes\n",
    "print(df[yes_no_columns + ['Sex']].head())\n"
   ]
  },
  {
   "cell_type": "code",
   "execution_count": 19,
   "metadata": {},
   "outputs": [],
   "source": [
    "df.to_csv('CVD_cleaned_mapped_full.csv', index=False)\n"
   ]
  },
  {
   "cell_type": "code",
   "execution_count": 20,
   "metadata": {},
   "outputs": [
    {
     "name": "stdout",
     "output_type": "stream",
     "text": [
      "General_Health                  0\n",
      "Checkup                         0\n",
      "Exercise                        0\n",
      "Heart_Disease                   0\n",
      "Skin_Cancer                     0\n",
      "Other_Cancer                    0\n",
      "Depression                      0\n",
      "Diabetes                        0\n",
      "Arthritis                       0\n",
      "Sex                             0\n",
      "Age_Category                    0\n",
      "Height_(cm)                     0\n",
      "Weight_(kg)                     0\n",
      "BMI                             0\n",
      "Smoking_History                 0\n",
      "Alcohol_Consumption             0\n",
      "Fruit_Consumption               0\n",
      "Green_Vegetables_Consumption    0\n",
      "FriedPotato_Consumption         0\n",
      "dtype: int64\n"
     ]
    }
   ],
   "source": [
    "# Check for missing values in the DataFrame\n",
    "missing_values = df.isnull().sum()\n",
    "print(missing_values)\n"
   ]
  },
  {
   "cell_type": "code",
   "execution_count": 21,
   "metadata": {},
   "outputs": [],
   "source": [
    "import pandas as pd\n",
    "from sklearn.preprocessing import StandardScaler\n",
    "import joblib\n",
    "\n",
    "# Separate the input features and target column\n",
    "input_features = df.drop(columns=['Heart_Disease'])  # Replace with actual target column\n",
    "target = df['Heart_Disease']\n",
    "\n",
    "# Fit the scaler only on the input features\n",
    "scaler = StandardScaler()\n",
    "input_features_scaled = pd.DataFrame(scaler.fit_transform(input_features), columns=input_features.columns)\n",
    "\n",
    "# Add the target column back to the scaled dataframe\n",
    "df_scaled = pd.concat([input_features_scaled, target.reset_index(drop=True)], axis=1)\n",
    "\n",
    "# Save the scaler for use in Gradio\n",
    "joblib.dump(scaler, 'scaler.joblib')\n",
    "\n",
    "# Save the scaled data (with target column included)\n",
    "df_scaled.to_csv('CVD_cleaned_scaled_standard.csv', index=False)\n",
    "\n",
    "# Now load the scaled data\n",
    "df_scaled = pd.read_csv('CVD_cleaned_scaled_standard.csv')\n",
    "\n",
    "# Define features and target for the model\n",
    "X = df_scaled.drop(columns=['Heart_Disease'])  # Features\n",
    "y = df_scaled['Heart_Disease']  # Target\n"
   ]
  },
  {
   "cell_type": "code",
   "execution_count": 22,
   "metadata": {},
   "outputs": [
    {
     "name": "stdout",
     "output_type": "stream",
     "text": [
      "Heart_Disease\n",
      "0    283883\n",
      "1     24971\n",
      "Name: count, dtype: int64\n"
     ]
    }
   ],
   "source": [
    "# Check class distribution\n",
    "print(df['Heart_Disease'].value_counts())\n"
   ]
  },
  {
   "cell_type": "code",
   "execution_count": 23,
   "metadata": {},
   "outputs": [],
   "source": [
    "from sklearn.model_selection import train_test_split\n",
    "\n",
    "# Split the data\n",
    "X_train, X_test, y_train, y_test = train_test_split(X, y, test_size=0.2, random_state=42)\n"
   ]
  },
  {
   "cell_type": "code",
   "execution_count": 24,
   "metadata": {},
   "outputs": [
    {
     "name": "stdout",
     "output_type": "stream",
     "text": [
      "Accuracy: 0.7187838953554256\n",
      "              precision    recall  f1-score   support\n",
      "\n",
      "           0       0.97      0.72      0.82     56774\n",
      "           1       0.18      0.71      0.29      4997\n",
      "\n",
      "    accuracy                           0.72     61771\n",
      "   macro avg       0.57      0.72      0.56     61771\n",
      "weighted avg       0.90      0.72      0.78     61771\n",
      "\n"
     ]
    }
   ],
   "source": [
    "from sklearn.linear_model import LogisticRegression\n",
    "from sklearn.metrics import classification_report, accuracy_score\n",
    "\n",
    "\n",
    "# Ensure the target column contains integers\n",
    "y_train = y_train.astype(int)\n",
    "y_test = y_test.astype(int)\n",
    "\n",
    "\n",
    "\n",
    "model = LogisticRegression(class_weight='balanced')\n",
    "\n",
    "\n",
    "# Train the model again\n",
    "model.fit(X_train, y_train)\n",
    "\n",
    "# Make predictions\n",
    "y_pred = model.predict(X_test)\n",
    "\n",
    "# Evaluate the model\n",
    "print(f'Accuracy: {accuracy_score(y_test, y_pred)}')\n",
    "print(classification_report(y_test, y_pred))"
   ]
  },
  {
   "cell_type": "code",
   "execution_count": 25,
   "metadata": {},
   "outputs": [
    {
     "name": "stdout",
     "output_type": "stream",
     "text": [
      "[[40835 15939]\n",
      " [ 1432  3565]]\n"
     ]
    }
   ],
   "source": [
    "from sklearn.metrics import confusion_matrix\n",
    "cm = confusion_matrix(y_test, y_pred)\n",
    "print(cm)\n"
   ]
  },
  {
   "cell_type": "code",
   "execution_count": 26,
   "metadata": {},
   "outputs": [
    {
     "data": {
      "text/plain": [
       "['heart_disease_model.joblib']"
      ]
     },
     "execution_count": 26,
     "metadata": {},
     "output_type": "execute_result"
    }
   ],
   "source": [
    "from joblib import dump, load\n",
    "\n",
    "# Save the trained model\n",
    "dump(model, 'heart_disease_model.joblib')\n"
   ]
  },
  {
   "cell_type": "markdown",
   "metadata": {},
   "source": [
    "## Find the threshold with the best trade-off "
   ]
  },
  {
   "cell_type": "code",
   "execution_count": 27,
   "metadata": {},
   "outputs": [
    {
     "name": "stdout",
     "output_type": "stream",
     "text": [
      "Best Threshold: 0.011444575856354031\n",
      "Accuracy: 0.08089556588042933\n",
      "              precision    recall  f1-score   support\n",
      "\n",
      "           0       0.00      0.00      0.00     56774\n",
      "           1       0.08      1.00      0.15      4997\n",
      "\n",
      "    accuracy                           0.08     61771\n",
      "   macro avg       0.04      0.50      0.07     61771\n",
      "weighted avg       0.01      0.08      0.01     61771\n",
      "\n"
     ]
    },
    {
     "name": "stderr",
     "output_type": "stream",
     "text": [
      "c:\\Users\\Seif_Pc\\AppData\\Local\\Programs\\Python\\Python311\\Lib\\site-packages\\sklearn\\metrics\\_ranking.py:1030: UserWarning: No positive class found in y_true, recall is set to one for all thresholds.\n",
      "  warnings.warn(\n",
      "c:\\Users\\Seif_Pc\\AppData\\Local\\Programs\\Python\\Python311\\Lib\\site-packages\\sklearn\\metrics\\_classification.py:1531: UndefinedMetricWarning: Precision is ill-defined and being set to 0.0 in labels with no predicted samples. Use `zero_division` parameter to control this behavior.\n",
      "  _warn_prf(average, modifier, f\"{metric.capitalize()} is\", len(result))\n",
      "c:\\Users\\Seif_Pc\\AppData\\Local\\Programs\\Python\\Python311\\Lib\\site-packages\\sklearn\\metrics\\_classification.py:1531: UndefinedMetricWarning: Precision is ill-defined and being set to 0.0 in labels with no predicted samples. Use `zero_division` parameter to control this behavior.\n",
      "  _warn_prf(average, modifier, f\"{metric.capitalize()} is\", len(result))\n",
      "c:\\Users\\Seif_Pc\\AppData\\Local\\Programs\\Python\\Python311\\Lib\\site-packages\\sklearn\\metrics\\_classification.py:1531: UndefinedMetricWarning: Precision is ill-defined and being set to 0.0 in labels with no predicted samples. Use `zero_division` parameter to control this behavior.\n",
      "  _warn_prf(average, modifier, f\"{metric.capitalize()} is\", len(result))\n"
     ]
    }
   ],
   "source": [
    "from sklearn.metrics import precision_recall_curve\n",
    "import numpy as np\n",
    "\n",
    "# Predict probabilities\n",
    "y_proba = model.predict_proba(X_test)[:, 1]\n",
    "\n",
    "# Compute precision-recall pairs for different probability thresholds\n",
    "precision, recall, thresholds = precision_recall_curve(y_test, y_proba, pos_label=3)\n",
    "\n",
    "# Find the threshold with the best trade-off (you can adjust this as needed)\n",
    "best_threshold = thresholds[np.argmax(recall - (1 - precision))]\n",
    "print(f'Best Threshold: {best_threshold}')\n",
    "\n",
    "# Apply the threshold to make new predictions\n",
    "y_pred_new = (y_proba >= best_threshold).astype(int)\n",
    "\n",
    "# Evaluate the model with the new threshold\n",
    "from sklearn.metrics import accuracy_score, classification_report\n",
    "\n",
    "print(f'Accuracy: {accuracy_score(y_test, y_pred_new)}')\n",
    "print(classification_report(y_test, y_pred_new))\n"
   ]
  },
  {
   "cell_type": "markdown",
   "metadata": {},
   "source": [
    "## Find the best threshold based on the F1 score"
   ]
  },
  {
   "cell_type": "code",
   "execution_count": 28,
   "metadata": {},
   "outputs": [
    {
     "name": "stdout",
     "output_type": "stream",
     "text": [
      "Best Threshold based on F1-score: 0.6932249294561542\n",
      "Accuracy: 0.8536691975198718\n",
      "              precision    recall  f1-score   support\n",
      "\n",
      "           0       0.95      0.89      0.92     56774\n",
      "           1       0.26      0.44      0.33      4997\n",
      "\n",
      "    accuracy                           0.85     61771\n",
      "   macro avg       0.60      0.67      0.62     61771\n",
      "weighted avg       0.89      0.85      0.87     61771\n",
      "\n"
     ]
    }
   ],
   "source": [
    "from sklearn.metrics import f1_score\n",
    "\n",
    "# Compute precision-recall pairs\n",
    "precision, recall, thresholds = precision_recall_curve(y_test, y_proba)\n",
    "\n",
    "# Compute F1 score for each threshold\n",
    "f1_scores = 2 * (precision * recall) / (precision + recall)\n",
    "\n",
    "# Find the best threshold based on the F1 score\n",
    "best_threshold = thresholds[np.argmax(f1_scores)]\n",
    "print(f'Best Threshold based on F1-score: {best_threshold}')\n",
    "\n",
    "# Apply the new threshold\n",
    "y_pred_new = (y_proba >= best_threshold).astype(int)\n",
    "\n",
    "# Evaluate the model with the new threshold\n",
    "print(f'Accuracy: {accuracy_score(y_test, y_pred_new)}')\n",
    "print(classification_report(y_test, y_pred_new))\n"
   ]
  },
  {
   "cell_type": "markdown",
   "metadata": {},
   "source": [
    "## decision tree model"
   ]
  },
  {
   "cell_type": "code",
   "execution_count": 29,
   "metadata": {},
   "outputs": [
    {
     "name": "stdout",
     "output_type": "stream",
     "text": [
      "Accuracy: 0.8731929222450665\n",
      "              precision    recall  f1-score   support\n",
      "\n",
      "           0       0.93      0.93      0.93     56774\n",
      "           1       0.20      0.19      0.20      4997\n",
      "\n",
      "    accuracy                           0.87     61771\n",
      "   macro avg       0.57      0.56      0.56     61771\n",
      "weighted avg       0.87      0.87      0.87     61771\n",
      "\n"
     ]
    }
   ],
   "source": [
    "from sklearn.tree import DecisionTreeClassifier\n",
    "from sklearn.metrics import classification_report, accuracy_score\n",
    "\n",
    "# Ensure the target column contains integers\n",
    "y_train = y_train.astype(int)\n",
    "y_test = y_test.astype(int)\n",
    "\n",
    "# Initialize the Decision Tree Classifier\n",
    "model1 = DecisionTreeClassifier(class_weight='balanced', random_state=42)\n",
    "\n",
    "# Train the model\n",
    "model1.fit(X_train, y_train)\n",
    "\n",
    "# Make predictions\n",
    "y_pred = model1.predict(X_test)\n",
    "\n",
    "# Evaluate the model\n",
    "print(f'Accuracy: {accuracy_score(y_test, y_pred)}')\n",
    "print(classification_report(y_test, y_pred))\n"
   ]
  },
  {
   "cell_type": "code",
   "execution_count": 30,
   "metadata": {},
   "outputs": [
    {
     "data": {
      "text/plain": [
       "['heart_disease_modelDT.joblib']"
      ]
     },
     "execution_count": 30,
     "metadata": {},
     "output_type": "execute_result"
    }
   ],
   "source": [
    "from joblib import dump, load\n",
    "\n",
    "# Save the trained model\n",
    "dump(model1, 'heart_disease_modelDT.joblib')\n"
   ]
  },
  {
   "cell_type": "markdown",
   "metadata": {},
   "source": [
    "## scalling"
   ]
  },
  {
   "cell_type": "code",
   "execution_count": 31,
   "metadata": {},
   "outputs": [
    {
     "name": "stdout",
     "output_type": "stream",
     "text": [
      "Accuracy: 0.8732091110715384\n",
      "              precision    recall  f1-score   support\n",
      "\n",
      "           0       0.93      0.93      0.93     56774\n",
      "           1       0.20      0.19      0.20      4997\n",
      "\n",
      "    accuracy                           0.87     61771\n",
      "   macro avg       0.57      0.56      0.56     61771\n",
      "weighted avg       0.87      0.87      0.87     61771\n",
      "\n"
     ]
    }
   ],
   "source": [
    "# Ensure the target columns are integers\n",
    "y_train = y_train.astype(int)\n",
    "y_test = y_test.astype(int)\n",
    "\n",
    "# 2. Initialize and fit the scaler on the training data\n",
    "scaler = StandardScaler()\n",
    "X_train_scaled = scaler.fit_transform(X_train)\n",
    "\n",
    "# Save the scaler for later use\n",
    "dump(scaler, 'scaler.joblib')\n",
    "\n",
    "# Transform the test data using the fitted scaler\n",
    "X_test_scaled = scaler.transform(X_test)\n",
    "\n",
    "# 3. Train the Decision Tree model\n",
    "model = DecisionTreeClassifier(class_weight='balanced', random_state=42)\n",
    "model.fit(X_train_scaled, y_train)\n",
    "\n",
    "# Save the trained Decision Tree model\n",
    "dump(model, 'heart_disease_modelDT.joblib')\n",
    "\n",
    "# 4. Evaluate the model\n",
    "y_pred = model.predict(X_test_scaled)\n",
    "print(f'Accuracy: {accuracy_score(y_test, y_pred)}')\n",
    "print(classification_report(y_test, y_pred))\n"
   ]
  },
  {
   "cell_type": "markdown",
   "metadata": {},
   "source": [
    "# gradio app"
   ]
  },
  {
   "cell_type": "code",
   "execution_count": 32,
   "metadata": {},
   "outputs": [
    {
     "name": "stdout",
     "output_type": "stream",
     "text": [
      "* Running on local URL:  http://127.0.0.1:7863\n",
      "* Running on public URL: https://b660b30d0f42eca02d.gradio.live\n",
      "\n",
      "This share link expires in 72 hours. For free permanent hosting and GPU upgrades, run `gradio deploy` from the terminal in the working directory to deploy to Hugging Face Spaces (https://huggingface.co/spaces)\n"
     ]
    },
    {
     "data": {
      "text/html": [
       "<div><iframe src=\"https://b660b30d0f42eca02d.gradio.live\" width=\"100%\" height=\"500\" allow=\"autoplay; camera; microphone; clipboard-read; clipboard-write;\" frameborder=\"0\" allowfullscreen></iframe></div>"
      ],
      "text/plain": [
       "<IPython.core.display.HTML object>"
      ]
     },
     "metadata": {},
     "output_type": "display_data"
    },
    {
     "name": "stdout",
     "output_type": "stream",
     "text": [
      "Input Data Shape (before scaling): (1, 18)\n",
      "Input Data Scaled: [[ 5.00227274e+00 -5.68978468e-04  1.00021401e+00  8.28760331e+01\n",
      "   1.70007592e+02  8.99818755e+01  2.89735217e+01  1.99965162e+00\n",
      "   1.99892418e+00 -7.09308990e-04 -1.67111278e-03  8.97760678e+00\n",
      "   9.96082079e-01  5.00097276e+00  9.99639787e-01  1.00066170e+00\n",
      "   1.00068271e+00  1.00502356e+00]]\n",
      "Raw Model Probability: 0.0\n",
      "Model Prediction: 0\n",
      "Model Probability: 0.0\n"
     ]
    },
    {
     "name": "stderr",
     "output_type": "stream",
     "text": [
      "c:\\Users\\Seif_Pc\\AppData\\Local\\Programs\\Python\\Python311\\Lib\\site-packages\\sklearn\\base.py:493: UserWarning: X does not have valid feature names, but StandardScaler was fitted with feature names\n",
      "  warnings.warn(\n"
     ]
    }
   ],
   "source": [
    "import numpy as np\n",
    "import gradio as gr\n",
    "from joblib import load\n",
    "\n",
    "# Load the trained Decision Tree model\n",
    "model = load('heart_disease_modelDT.joblib')\n",
    "scaler = load('scaler.joblib')  # Load the saved scaler\n",
    "\n",
    "# Optimized threshold based on F1-score\n",
    "best_threshold = 0.5  # You can adjust this threshold as needed\n",
    "\n",
    "def preprocess_input(\n",
    "    general_health,\n",
    "    checkup,                \n",
    "    exercise,               \n",
    "    sex,\n",
    "    age_category,\n",
    "    height_cm,\n",
    "    weight_kg,\n",
    "    bmi,\n",
    "    smoking_history,\n",
    "    alcohol_consumption,\n",
    "    fruit_consumption,\n",
    "    green_vegetables_consumption,\n",
    "    fried_potato_consumption,\n",
    "    arthritis,\n",
    "    depression,\n",
    "    diabetes,\n",
    "    other_cancer,\n",
    "    skin_cancer\n",
    "):\n",
    "    \n",
    "    # Correct mappings for each categorical input\n",
    "    general_health_mapping = {\"Excellent\": 3, \"Very Good\": 1, \"Good\": 2, \"Fair\": 4, \"Poor\": 5}\n",
    "    yes_no_mapping = {\"Yes\": 1, \"No\": 0}\n",
    "    sex_mapping = {\"Male\": 1, \"Female\": 0}\n",
    "    smoking_history_mapping = {\"Never Smoked\": 0, \"Former Smoker\": 1, \"Current Smoker\": 2}\n",
    "    alcohol_mapping = {\"Never\": 0, \"Occasionally\": 1, \"Regularly\": 2}\n",
    "    checkup_mapping = {\n",
    "        \"Within the past year\": 1,\n",
    "        \"Within the past 2 years\": 2,\n",
    "        \"Within the past 5 years\": 3,\n",
    "        \"5 or more years ago\": 4,\n",
    "        \"Never\": 5\n",
    "    }\n",
    "\n",
    "    # Apply mappings\n",
    "    general_health = general_health_mapping[general_health]\n",
    "    exercise = yes_no_mapping[exercise]\n",
    "    sex = sex_mapping[sex]\n",
    "    smoking_history = smoking_history_mapping[smoking_history]\n",
    "    alcohol_consumption = alcohol_mapping[alcohol_consumption]\n",
    "    checkup = checkup_mapping[checkup]\n",
    "    arthritis = yes_no_mapping[arthritis]\n",
    "    depression = yes_no_mapping[depression]\n",
    "    diabetes = yes_no_mapping[diabetes]\n",
    "    other_cancer = yes_no_mapping[other_cancer]\n",
    "    skin_cancer = yes_no_mapping[skin_cancer]\n",
    "\n",
    "    # Combine into a single feature array (with 19 features as expected)\n",
    "    input_data = np.array([[\n",
    "        general_health, exercise, sex, age_category, height_cm, weight_kg, bmi, smoking_history,\n",
    "        alcohol_consumption, fruit_consumption, green_vegetables_consumption, fried_potato_consumption,\n",
    "        arthritis, checkup, depression, diabetes, other_cancer, skin_cancer\n",
    "    ]])\n",
    "\n",
    "    # Debug: Print the shape of input data\n",
    "    print(f\"Input Data Shape (before scaling): {input_data.shape}\")\n",
    "\n",
    "    # Load the scaler and scale the input data\n",
    "    scaler = load('scaler.joblib')\n",
    "    input_data_scaled = scaler.transform(input_data)\n",
    "\n",
    "    print(f\"Input Data Scaled: {input_data_scaled}\")\n",
    "    return input_data_scaled\n",
    "\n",
    "def predict_health_condition(\n",
    "    general_health,\n",
    "    checkup,\n",
    "    exercise,\n",
    "    sex,\n",
    "    age_category,\n",
    "    height_cm,\n",
    "    weight_kg,\n",
    "    bmi,\n",
    "    smoking_history,\n",
    "    alcohol_consumption,\n",
    "    fruit_consumption,\n",
    "    green_vegetables_consumption,\n",
    "    fried_potato_consumption,\n",
    "    arthritis,\n",
    "    depression,\n",
    "    diabetes,\n",
    "    other_cancer,\n",
    "    skin_cancer\n",
    "):\n",
    "    # Preprocess and scale the input\n",
    "    input_data_scaled = preprocess_input(\n",
    "        general_health, checkup, exercise, sex, age_category, height_cm, weight_kg, bmi,\n",
    "        smoking_history, alcohol_consumption, fruit_consumption, green_vegetables_consumption,\n",
    "        fried_potato_consumption, arthritis, depression, diabetes, other_cancer, skin_cancer\n",
    "    )\n",
    "\n",
    "    # Make prediction\n",
    "    probability = model.predict_proba(input_data_scaled)[0, 1]  # Get the probability of having the disease\n",
    "    print(f\"Raw Model Probability: {probability}\")\n",
    "    # Apply the optimized threshold\n",
    "    prediction = (probability >= best_threshold).astype(int)\n",
    "\n",
    "    # Determine risk level based on probability\n",
    "    risk_level = \"High Risk\" if prediction == 1 else \"Low Risk\"\n",
    "\n",
    "    # Debug output\n",
    "    print(f\"Model Prediction: {prediction}\")\n",
    "    print(f\"Model Probability: {probability}\")\n",
    "\n",
    "    return f\"{risk_level} with a {probability:.2%} chance of having heart disease.\"\n",
    "\n",
    "# Create the Gradio interface\n",
    "def create_gradio_interface():\n",
    "    with gr.Blocks() as demo:\n",
    "        gr.Markdown(\"# Health Monitoring System\")\n",
    "        gr.Markdown(\"Enter your health details to get insights into potential health risks.\")\n",
    "\n",
    "        with gr.Row():\n",
    "            general_health = gr.Dropdown(\n",
    "                choices=[\"Excellent\", \"Very Good\", \"Good\", \"Fair\", \"Poor\"],\n",
    "                label=\"General Health\"\n",
    "            )\n",
    "            checkup = gr.Dropdown(\n",
    "                choices=[\n",
    "                    \"Within the past year\",\n",
    "                    \"Within the past 2 years\",\n",
    "                    \"Within the past 5 years\",\n",
    "                    \"5 or more years ago\",\n",
    "                    \"Never\"\n",
    "                ],\n",
    "                label=\"Regular Medical Checkup\"\n",
    "            )\n",
    "\n",
    "        with gr.Row():\n",
    "            exercise = gr.Radio(\n",
    "                choices=[\"Yes\", \"No\"],\n",
    "                label=\"Regular Exercise\"\n",
    "            )\n",
    "            sex = gr.Radio(\n",
    "                choices=[\"Male\", \"Female\"],\n",
    "                label=\"Sex\"\n",
    "            )\n",
    "            age_category = gr.Slider(\n",
    "                minimum=0,\n",
    "                maximum=100,\n",
    "                step=1,\n",
    "                label=\"Age\"\n",
    "            )\n",
    "\n",
    "        with gr.Row():\n",
    "            height_cm = gr.Number(label=\"Height (cm)\", value=170)\n",
    "            weight_kg = gr.Number(label=\"Weight (kg)\", value=70)\n",
    "            bmi = gr.Number(label=\"BMI\", value=25)\n",
    "\n",
    "        with gr.Row():\n",
    "            smoking_history = gr.Dropdown(\n",
    "                choices=[\"Never Smoked\", \"Former Smoker\", \"Current Smoker\"],\n",
    "                label=\"Smoking History\"\n",
    "            )\n",
    "            alcohol_consumption = gr.Dropdown(\n",
    "                choices=[\"Never\", \"Occasionally\", \"Regularly\"],\n",
    "                label=\"Alcohol Consumption\"\n",
    "            )\n",
    "\n",
    "        with gr.Row():\n",
    "            fruit_consumption = gr.Slider(\n",
    "                minimum=0,\n",
    "                maximum=14,\n",
    "                step=1,\n",
    "                label=\"Fruit Consumption (per week)\"\n",
    "            )\n",
    "            green_vegetables_consumption = gr.Slider(\n",
    "                minimum=0,\n",
    "                maximum=14,\n",
    "                step=1,\n",
    "                label=\"Green Vegetables Consumption (per week)\"\n",
    "            )\n",
    "            fried_potato_consumption = gr.Slider(\n",
    "                minimum=0,\n",
    "                maximum=14,\n",
    "                step=1,\n",
    "                label=\"Fried Potato Consumption (per week)\"\n",
    "            )\n",
    "\n",
    "        with gr.Row():\n",
    "            arthritis = gr.Radio(\n",
    "                choices=[\"Yes\", \"No\"],\n",
    "                label=\"Arthritis\"\n",
    "            )\n",
    "            depression = gr.Radio(\n",
    "                choices=[\"Yes\", \"No\"],\n",
    "                label=\"Depression\"\n",
    "            )\n",
    "            diabetes = gr.Radio(\n",
    "                choices=[\"Yes\", \"No\"],\n",
    "                label=\"Diabetes\"\n",
    "            )\n",
    "            other_cancer = gr.Radio(\n",
    "                choices=[\"Yes\", \"No\"],\n",
    "                label=\"Other Cancer\"\n",
    "            )\n",
    "            skin_cancer = gr.Radio(\n",
    "                choices=[\"Yes\", \"No\"],\n",
    "                label=\"Skin Cancer\"\n",
    "            )\n",
    "\n",
    "        # Define the predict button and output text box\n",
    "        predict_button = gr.Button(\"Predict Health Risk\")\n",
    "        output = gr.Textbox(label=\"Prediction\")\n",
    "\n",
    "        # The predict_button.click function goes here\n",
    "        predict_button.click(\n",
    "            fn=predict_health_condition,\n",
    "            inputs=[\n",
    "                general_health,\n",
    "                checkup,\n",
    "                exercise,\n",
    "                sex,\n",
    "                age_category,\n",
    "                height_cm,\n",
    "                weight_kg,\n",
    "                bmi,\n",
    "                smoking_history,\n",
    "                alcohol_consumption,\n",
    "                fruit_consumption,\n",
    "                green_vegetables_consumption,\n",
    "                fried_potato_consumption,\n",
    "                arthritis,\n",
    "                depression,\n",
    "                diabetes,\n",
    "                other_cancer,\n",
    "                skin_cancer\n",
    "            ],\n",
    "            outputs=output\n",
    "        )\n",
    "\n",
    "    return demo\n",
    "\n",
    "# Launch the Gradio interface\n",
    "if __name__ == \"__main__\":\n",
    "    interface = create_gradio_interface()\n",
    "    interface.launch(share=True)\n"
   ]
  }
 ],
 "metadata": {
  "kernelspec": {
   "display_name": "Python 3",
   "language": "python",
   "name": "python3"
  },
  "language_info": {
   "codemirror_mode": {
    "name": "ipython",
    "version": 3
   },
   "file_extension": ".py",
   "mimetype": "text/x-python",
   "name": "python",
   "nbconvert_exporter": "python",
   "pygments_lexer": "ipython3",
   "version": "3.11.1"
  }
 },
 "nbformat": 4,
 "nbformat_minor": 2
}
